{
 "cells": [
  {
   "cell_type": "code",
   "execution_count": 1,
   "id": "997cdf96",
   "metadata": {},
   "outputs": [],
   "source": [
    "import numpy as np\n",
    "import pandas as pd\n",
    "import matplotlib.pyplot as plt\n",
    "import seaborn as sns\n",
    "from sklearn.linear_model import LogisticRegression\n",
    "from sklearn.metrics import accuracy_score"
   ]
  },
  {
   "cell_type": "code",
   "execution_count": 2,
   "id": "f8eba02b",
   "metadata": {},
   "outputs": [],
   "source": [
    "\n",
    "\n",
    "data = pd.read_csv(\"train.csv\")\n",
    "data['Age'].fillna(0, inplace=True)\n",
    "data['Embarked'].fillna(0, inplace=True)\n",
    "data['Family'] = data['SibSp'] + data['Parch']\n",
    "data['Sex'] = pd.Categorical(data['Sex']).codes\n",
    "embarked_dummies = pd.get_dummies(data['Embarked'], prefix='E', drop_first=False)\n",
    "data.drop(['Ticket', 'Fare', 'Cabin','Embarked','Name','SibSp','Parch'], inplace=True, axis=1)\n",
    "data = pd.concat([data, embarked_dummies], axis=1)\n",
    "\n"
   ]
  },
  {
   "cell_type": "code",
   "execution_count": 3,
   "id": "b8944064",
   "metadata": {},
   "outputs": [],
   "source": [
    "y_data=data['Survived']\n",
    "X_data=data[['Pclass','Sex','Age','Family','E_C','E_Q','E_S']]"
   ]
  },
  {
   "cell_type": "code",
   "execution_count": 4,
   "id": "de78e44d",
   "metadata": {},
   "outputs": [
    {
     "name": "stdout",
     "output_type": "stream",
     "text": [
      "0      0\n",
      "1      1\n",
      "2      1\n",
      "3      1\n",
      "4      0\n",
      "      ..\n",
      "886    0\n",
      "887    1\n",
      "888    0\n",
      "889    1\n",
      "890    0\n",
      "Name: Survived, Length: 891, dtype: int64\n",
      "     Pclass  Sex   Age  Family  E_C  E_Q  E_S\n",
      "0         3    1  22.0       1    0    0    1\n",
      "1         1    0  38.0       1    1    0    0\n",
      "2         3    0  26.0       0    0    0    1\n",
      "3         1    0  35.0       1    0    0    1\n",
      "4         3    1  35.0       0    0    0    1\n",
      "..      ...  ...   ...     ...  ...  ...  ...\n",
      "886       2    1  27.0       0    0    0    1\n",
      "887       1    0  19.0       0    0    0    1\n",
      "888       3    0   0.0       3    0    0    1\n",
      "889       1    1  26.0       0    1    0    0\n",
      "890       3    1  32.0       0    0    1    0\n",
      "\n",
      "[891 rows x 7 columns]\n"
     ]
    }
   ],
   "source": [
    "print(y_data)\n",
    "print(X_data)"
   ]
  },
  {
   "cell_type": "code",
   "execution_count": 5,
   "id": "1db13b10",
   "metadata": {},
   "outputs": [],
   "source": [
    "from sklearn.model_selection import train_test_split\n",
    "X_train, X_val, y_train, y_val = train_test_split(\n",
    "    X_data, y_data, test_size=0.2, random_state=0)"
   ]
  },
  {
   "cell_type": "code",
   "execution_count": 6,
   "id": "1cd40893",
   "metadata": {},
   "outputs": [
    {
     "data": {
      "text/plain": [
       "LogisticRegression()"
      ]
     },
     "execution_count": 6,
     "metadata": {},
     "output_type": "execute_result"
    }
   ],
   "source": [
    "lr_model=LogisticRegression()\n",
    "lr_model.fit(X_train,y_train)"
   ]
  },
  {
   "cell_type": "code",
   "execution_count": 7,
   "id": "ec2f5d1b",
   "metadata": {},
   "outputs": [],
   "source": [
    "y_pred=lr_model.predict(X_val)"
   ]
  },
  {
   "cell_type": "code",
   "execution_count": 8,
   "id": "579f18ed",
   "metadata": {},
   "outputs": [
    {
     "name": "stdout",
     "output_type": "stream",
     "text": [
      "0.8044692737430168\n"
     ]
    }
   ],
   "source": [
    "Accuracy=accuracy_score(y_val, y_pred)\n",
    "print(Accuracy)"
   ]
  },
  {
   "cell_type": "code",
   "execution_count": 9,
   "id": "cc810499",
   "metadata": {},
   "outputs": [],
   "source": [
    "data_t = pd.read_csv(\"test.csv\")\n",
    "data_t['Age'].fillna(0, inplace=True)\n",
    "data_t['Embarked'].fillna(0, inplace=True)\n",
    "data_t['Family'] = data_t['SibSp'] + data_t['Parch']\n",
    "data_t['Sex'] = pd.Categorical(data_t['Sex']).codes\n",
    "embarked_dummies_t = pd.get_dummies(data_t['Embarked'], prefix='E', drop_first=False)\n",
    "data_t.drop(['Ticket', 'Fare', 'Cabin','Embarked','Name','SibSp','Parch'], inplace=True, axis=1)\n",
    "data_t = pd.concat([data_t, embarked_dummies_t], axis=1)"
   ]
  },
  {
   "cell_type": "code",
   "execution_count": 10,
   "id": "7ba62294",
   "metadata": {},
   "outputs": [
    {
     "name": "stdout",
     "output_type": "stream",
     "text": [
      "     Pclass  Sex   Age  Family  E_C  E_Q  E_S\n",
      "0         3    1  34.5       0    0    1    0\n",
      "1         3    0  47.0       1    0    0    1\n",
      "2         2    1  62.0       0    0    1    0\n",
      "3         3    1  27.0       0    0    0    1\n",
      "4         3    0  22.0       2    0    0    1\n",
      "..      ...  ...   ...     ...  ...  ...  ...\n",
      "413       3    1   0.0       0    0    0    1\n",
      "414       1    0  39.0       0    1    0    0\n",
      "415       3    1  38.5       0    0    0    1\n",
      "416       3    1   0.0       0    0    0    1\n",
      "417       3    1   0.0       2    1    0    0\n",
      "\n",
      "[418 rows x 7 columns]\n"
     ]
    }
   ],
   "source": [
    "test=data_t[['Pclass','Sex','Age','Family','E_C','E_Q','E_S']]\n",
    "print(test)"
   ]
  },
  {
   "cell_type": "code",
   "execution_count": 11,
   "id": "3ccfd3e6",
   "metadata": {},
   "outputs": [
    {
     "name": "stdout",
     "output_type": "stream",
     "text": [
      "[0 0 0 0 1 0 1 0 1 0 0 0 1 0 1 1 0 0 1 1 0 0 1 0 1 0 1 0 0 0 0 0 0 1 0 0 1\n",
      " 1 0 0 0 1 0 1 1 0 0 0 1 0 0 0 1 1 0 0 0 0 0 1 0 0 0 1 0 1 1 0 0 1 1 0 1 1\n",
      " 1 0 0 1 0 1 0 0 0 0 0 0 1 1 1 0 1 0 1 0 1 0 1 0 1 0 1 0 0 0 1 0 0 0 0 0 0\n",
      " 1 1 1 1 0 0 1 0 1 1 0 1 0 0 1 0 1 0 0 0 0 1 0 0 0 0 0 1 0 0 1 0 0 0 0 1 0\n",
      " 1 0 1 0 0 0 0 0 1 1 0 1 1 0 1 0 0 1 0 0 1 1 0 0 0 0 0 1 1 0 1 1 0 0 1 0 1\n",
      " 0 1 0 0 0 0 1 0 0 0 0 1 1 0 1 1 0 0 1 0 1 1 0 1 0 0 0 0 1 0 0 1 0 1 0 1 0\n",
      " 1 0 1 1 0 1 0 0 0 1 0 0 0 0 0 0 1 1 1 1 0 0 0 0 1 0 1 1 1 0 0 0 0 0 0 0 1\n",
      " 0 0 0 1 1 0 0 1 0 1 0 0 0 1 1 0 1 0 0 0 0 1 0 1 1 1 0 0 0 0 0 1 1 0 0 0 0\n",
      " 1 0 0 0 0 0 0 0 1 1 0 0 0 1 0 0 0 1 1 1 0 0 0 0 0 0 0 0 1 0 1 0 0 0 1 0 0\n",
      " 1 0 0 0 0 0 0 0 0 0 1 0 1 0 1 0 1 1 0 0 0 1 0 1 0 0 1 0 1 1 0 1 0 0 1 1 0\n",
      " 0 1 0 0 1 1 1 0 0 0 0 0 1 1 0 1 0 0 0 0 0 1 0 0 0 1 0 1 0 0 1 0 1 0 0 0 0\n",
      " 0 1 1 1 1 1 0 1 0 0 0]\n",
      "int64\n",
      "<class 'numpy.ndarray'>\n",
      "418\n"
     ]
    }
   ],
   "source": [
    "y_pred_t=lr_model.predict(test)\n",
    "print(y_pred_t)\n",
    "print(y_pred_t.dtype)\n",
    "print(type(y_pred_t))\n",
    "print(len(y_pred_t))"
   ]
  },
  {
   "cell_type": "code",
   "execution_count": 15,
   "id": "7923ae5e",
   "metadata": {},
   "outputs": [
    {
     "name": "stdout",
     "output_type": "stream",
     "text": [
      "418\n"
     ]
    }
   ],
   "source": [
    "a=np.arange(892,1310)\n",
    "print(len(a))"
   ]
  },
  {
   "cell_type": "code",
   "execution_count": 16,
   "id": "f0cf9582",
   "metadata": {},
   "outputs": [],
   "source": [
    "y_final=np.zeros((418,2))\n",
    "y_final[:,0]=a\n",
    "y_final[:,1]=y_pred_t"
   ]
  },
  {
   "cell_type": "code",
   "execution_count": 17,
   "id": "fa259fbb",
   "metadata": {},
   "outputs": [],
   "source": [
    "df = pd.DataFrame(y_final, columns =['Passenger', 'Survived'])"
   ]
  },
  {
   "cell_type": "code",
   "execution_count": 18,
   "id": "b7d4639a",
   "metadata": {},
   "outputs": [],
   "source": [
    "df.to_csv('Submit2.csv',index=False)"
   ]
  },
  {
   "cell_type": "code",
   "execution_count": null,
   "id": "e2251252",
   "metadata": {},
   "outputs": [],
   "source": []
  }
 ],
 "metadata": {
  "kernelspec": {
   "display_name": "Python 3 (ipykernel)",
   "language": "python",
   "name": "python3"
  },
  "language_info": {
   "codemirror_mode": {
    "name": "ipython",
    "version": 3
   },
   "file_extension": ".py",
   "mimetype": "text/x-python",
   "name": "python",
   "nbconvert_exporter": "python",
   "pygments_lexer": "ipython3",
   "version": "3.9.13"
  }
 },
 "nbformat": 4,
 "nbformat_minor": 5
}
