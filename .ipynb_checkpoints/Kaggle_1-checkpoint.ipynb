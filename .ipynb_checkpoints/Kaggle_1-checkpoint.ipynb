{
 "cells": [
  {
   "cell_type": "code",
   "execution_count": 83,
   "id": "997cdf96",
   "metadata": {},
   "outputs": [],
   "source": [
    "import numpy as np\n",
    "import pandas as pd\n",
    "import matplotlib.pyplot as plt\n",
    "import seaborn as sns\n",
    "from sklearn.linear_model import LogisticRegression\n",
    "from sklearn.metrics import accuracy_score"
   ]
  },
  {
   "cell_type": "code",
   "execution_count": 87,
   "id": "f63a3363",
   "metadata": {},
   "outputs": [],
   "source": [
    "\n",
    "\n",
    "data = pd.read_csv(\"train.csv\")\n",
    "data['Age'].fillna(0, inplace=True)\n",
    "data['Embarked'].fillna(0, inplace=True)\n",
    "data['Family'] = data['SibSp'] + data['Parch']\n",
    "data['Sex'] = pd.Categorical(data['Sex']).codes\n",
    "embarked_dummies = pd.get_dummies(data['Embarked'], prefix='E', drop_first=False)\n",
    "data.drop(['Ticket', 'Fare', 'Cabin','Embarked','Name','SibSp','Parch'], inplace=True, axis=1)\n",
    "data = pd.concat([data, embarked_dummies], axis=1)\n",
    "\n"
   ]
  },
  {
   "cell_type": "code",
   "execution_count": 88,
   "id": "ca1b9f15",
   "metadata": {},
   "outputs": [],
   "source": [
    "y_data=data['Survived']\n",
    "X_data=data[['Pclass','Sex','Age','Family','E_C','E_Q','E_S']]"
   ]
  },
  {
   "cell_type": "code",
   "execution_count": 89,
   "id": "3918612d",
   "metadata": {},
   "outputs": [
    {
     "name": "stdout",
     "output_type": "stream",
     "text": [
      "0      0\n",
      "1      1\n",
      "2      1\n",
      "3      1\n",
      "4      0\n",
      "      ..\n",
      "886    0\n",
      "887    1\n",
      "888    0\n",
      "889    1\n",
      "890    0\n",
      "Name: Survived, Length: 891, dtype: int64\n",
      "     Pclass  Sex   Age  Family  E_C  E_Q  E_S\n",
      "0         3    1  22.0       1    0    0    1\n",
      "1         1    0  38.0       1    1    0    0\n",
      "2         3    0  26.0       0    0    0    1\n",
      "3         1    0  35.0       1    0    0    1\n",
      "4         3    1  35.0       0    0    0    1\n",
      "..      ...  ...   ...     ...  ...  ...  ...\n",
      "886       2    1  27.0       0    0    0    1\n",
      "887       1    0  19.0       0    0    0    1\n",
      "888       3    0   0.0       3    0    0    1\n",
      "889       1    1  26.0       0    1    0    0\n",
      "890       3    1  32.0       0    0    1    0\n",
      "\n",
      "[891 rows x 7 columns]\n"
     ]
    }
   ],
   "source": [
    "print(y_data)\n",
    "print(X_data)"
   ]
  },
  {
   "cell_type": "code",
   "execution_count": 53,
   "id": "89de47fa",
   "metadata": {},
   "outputs": [],
   "source": [
    "from sklearn.model_selection import train_test_split\n",
    "X_train, X_val, y_train, y_val = train_test_split(\n",
    "    X_data, y_data, test_size=0.2, random_state=0)"
   ]
  },
  {
   "cell_type": "code",
   "execution_count": 55,
   "id": "b7d8a7df",
   "metadata": {},
   "outputs": [
    {
     "data": {
      "text/plain": [
       "LogisticRegression()"
      ]
     },
     "execution_count": 55,
     "metadata": {},
     "output_type": "execute_result"
    }
   ],
   "source": [
    "lr_model=LogisticRegression()\n",
    "lr_model.fit(X_train,y_train)"
   ]
  },
  {
   "cell_type": "code",
   "execution_count": 57,
   "id": "aeba148a",
   "metadata": {},
   "outputs": [],
   "source": [
    "y_pred=lr_model.predict(X_val)"
   ]
  },
  {
   "cell_type": "code",
   "execution_count": 62,
   "id": "b36fd933",
   "metadata": {},
   "outputs": [
    {
     "name": "stdout",
     "output_type": "stream",
     "text": [
      "0.8044692737430168\n"
     ]
    }
   ],
   "source": [
    "Accuracy=accuracy_score(y_val, y_pred)\n",
    "print(Accuracy)"
   ]
  },
  {
   "cell_type": "code",
   "execution_count": 90,
   "id": "58779409",
   "metadata": {},
   "outputs": [],
   "source": [
    "data_t = pd.read_csv(\"test.csv\")\n",
    "data_t['Age'].fillna(0, inplace=True)\n",
    "data_t['Embarked'].fillna(0, inplace=True)\n",
    "data_t['Family'] = data_t['SibSp'] + data_t['Parch']\n",
    "data_t['Sex'] = pd.Categorical(data_t['Sex']).codes\n",
    "embarked_dummies_t = pd.get_dummies(data_t['Embarked'], prefix='E', drop_first=False)\n",
    "data_t.drop(['Ticket', 'Fare', 'Cabin','Embarked','Name','SibSp','Parch'], inplace=True, axis=1)\n",
    "data_t = pd.concat([data_t, embarked_dummies_t], axis=1)"
   ]
  },
  {
   "cell_type": "code",
   "execution_count": 92,
   "id": "74b62ffe",
   "metadata": {},
   "outputs": [
    {
     "name": "stdout",
     "output_type": "stream",
     "text": [
      "     Pclass  Sex   Age  Family  E_C  E_Q  E_S\n",
      "0         3    1  34.5       0    0    1    0\n",
      "1         3    0  47.0       1    0    0    1\n",
      "2         2    1  62.0       0    0    1    0\n",
      "3         3    1  27.0       0    0    0    1\n",
      "4         3    0  22.0       2    0    0    1\n",
      "..      ...  ...   ...     ...  ...  ...  ...\n",
      "413       3    1   0.0       0    0    0    1\n",
      "414       1    0  39.0       0    1    0    0\n",
      "415       3    1  38.5       0    0    0    1\n",
      "416       3    1   0.0       0    0    0    1\n",
      "417       3    1   0.0       2    1    0    0\n",
      "\n",
      "[418 rows x 7 columns]\n"
     ]
    }
   ],
   "source": [
    "test=data_t[['Pclass','Sex','Age','Family','E_C','E_Q','E_S']]\n",
    "print(test)"
   ]
  },
  {
   "cell_type": "code",
   "execution_count": 96,
   "id": "a1b461e8",
   "metadata": {},
   "outputs": [
    {
     "name": "stdout",
     "output_type": "stream",
     "text": [
      "[0 0 0 0 1 0 1 0 1 0 0 0 1 0 1 1 0 0 1 1 0 0 1 0 1 0 1 0 0 0 0 0 0 1 0 0 1\n",
      " 1 0 0 0 1 0 1 1 0 0 0 1 0 0 0 1 1 0 0 0 0 0 1 0 0 0 1 0 1 1 0 0 1 1 0 1 1\n",
      " 1 0 0 1 0 1 0 0 0 0 0 0 1 1 1 0 1 0 1 0 1 0 1 0 1 0 1 0 0 0 1 0 0 0 0 0 0\n",
      " 1 1 1 1 0 0 1 0 1 1 0 1 0 0 1 0 1 0 0 0 0 1 0 0 0 0 0 1 0 0 1 0 0 0 0 1 0\n",
      " 1 0 1 0 0 0 0 0 1 1 0 1 1 0 1 0 0 1 0 0 1 1 0 0 0 0 0 1 1 0 1 1 0 0 1 0 1\n",
      " 0 1 0 0 0 0 1 0 0 0 0 1 1 0 1 1 0 0 1 0 1 1 0 1 0 0 0 0 1 0 0 1 0 1 0 1 0\n",
      " 1 0 1 1 0 1 0 0 0 1 0 0 0 0 0 0 1 1 1 1 0 0 0 0 1 0 1 1 1 0 0 0 0 0 0 0 1\n",
      " 0 0 0 1 1 0 0 1 0 1 0 0 0 1 1 0 1 0 0 0 0 1 0 1 1 1 0 0 0 0 0 1 1 0 0 0 0\n",
      " 1 0 0 0 0 0 0 0 1 1 0 0 0 1 0 0 0 1 1 1 0 0 0 0 0 0 0 0 1 0 1 0 0 0 1 0 0\n",
      " 1 0 0 0 0 0 0 0 0 0 1 0 1 0 1 0 1 1 0 0 0 1 0 1 0 0 1 0 1 1 0 1 0 0 1 1 0\n",
      " 0 1 0 0 1 1 1 0 0 0 0 0 1 1 0 1 0 0 0 0 0 1 0 0 0 1 0 1 0 0 1 0 1 0 0 0 0\n",
      " 0 1 1 1 1 1 0 1 0 0 0]\n",
      "int64\n"
     ]
    }
   ],
   "source": [
    "y_pred_t=lr_model.predict(test)\n",
    "print(y_pred_t)\n",
    "print(y_pred_t.dtype)"
   ]
  },
  {
   "cell_type": "code",
   "execution_count": 100,
   "id": "357e0bb0",
   "metadata": {},
   "outputs": [
    {
     "ename": "SyntaxError",
     "evalue": "invalid syntax (1184497744.py, line 1)",
     "output_type": "error",
     "traceback": [
      "\u001b[1;36m  File \u001b[1;32m\"C:\\Users\\Somya\\AppData\\Local\\Temp\\ipykernel_20640\\1184497744.py\"\u001b[1;36m, line \u001b[1;32m1\u001b[0m\n\u001b[1;33m    numpy.savetxt('New Microsoft Excel Worksheet.csv',y_pred_t, ,delimiter='')\u001b[0m\n\u001b[1;37m                                                                ^\u001b[0m\n\u001b[1;31mSyntaxError\u001b[0m\u001b[1;31m:\u001b[0m invalid syntax\n"
     ]
    }
   ],
   "source": [
    "numpy.savetxt('New Microsoft Excel Worksheet.csv',y_pred_t, ,delimiter='')"
   ]
  },
  {
   "cell_type": "code",
   "execution_count": null,
   "id": "622ab529",
   "metadata": {},
   "outputs": [],
   "source": []
  }
 ],
 "metadata": {
  "kernelspec": {
   "display_name": "Python 3 (ipykernel)",
   "language": "python",
   "name": "python3"
  },
  "language_info": {
   "codemirror_mode": {
    "name": "ipython",
    "version": 3
   },
   "file_extension": ".py",
   "mimetype": "text/x-python",
   "name": "python",
   "nbconvert_exporter": "python",
   "pygments_lexer": "ipython3",
   "version": "3.9.13"
  }
 },
 "nbformat": 4,
 "nbformat_minor": 5
}
