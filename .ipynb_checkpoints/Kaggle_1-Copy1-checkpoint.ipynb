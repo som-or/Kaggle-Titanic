{
 "cells": [
  {
   "cell_type": "code",
   "execution_count": 79,
   "id": "997cdf96",
   "metadata": {},
   "outputs": [],
   "source": [
    "import numpy as np\n",
    "import pandas as pd\n",
    "import matplotlib.pyplot as plt\n",
    "import seaborn as sns\n",
    "from sklearn.linear_model import LogisticRegression\n",
    "from sklearn.metrics import accuracy_score"
   ]
  },
  {
   "cell_type": "code",
   "execution_count": 80,
   "id": "4a152ae6",
   "metadata": {},
   "outputs": [],
   "source": [
    "\n",
    "\n",
    "data = pd.read_csv(\"train.csv\")\n",
    "data['Age'].fillna(0, inplace=True)\n",
    "data['Embarked'].fillna(0, inplace=True)\n",
    "data['Family'] = data['SibSp'] + data['Parch']\n",
    "data['Sex'] = pd.Categorical(data['Sex']).codes\n",
    "embarked_dummies = pd.get_dummies(data['Embarked'], prefix='E', drop_first=True)\n",
    "data.drop(['Ticket', 'Fare', 'Cabin','Embarked','Name','SibSp','Parch'], inplace=True, axis=1)\n",
    "data = pd.concat([data, embarked_dummies], axis=1)\n",
    "\n"
   ]
  },
  {
   "cell_type": "code",
   "execution_count": 43,
   "id": "041658a5",
   "metadata": {},
   "outputs": [],
   "source": [
    "y_data=data['Survived']\n",
    "X_data=data[['Pclass','Sex','Age','Family','E_C','E_Q','E_S']]"
   ]
  },
  {
   "cell_type": "code",
   "execution_count": 44,
   "id": "01a464dc",
   "metadata": {},
   "outputs": [
    {
     "name": "stdout",
     "output_type": "stream",
     "text": [
      "0      0\n",
      "1      1\n",
      "2      1\n",
      "3      1\n",
      "4      0\n",
      "      ..\n",
      "886    0\n",
      "887    1\n",
      "888    0\n",
      "889    1\n",
      "890    0\n",
      "Name: Survived, Length: 891, dtype: int64\n",
      "     Pclass  Sex   Age  Family  E_C  E_Q  E_S\n",
      "0         3    1  22.0       1    0    0    1\n",
      "1         1    0  38.0       1    1    0    0\n",
      "2         3    0  26.0       0    0    0    1\n",
      "3         1    0  35.0       1    0    0    1\n",
      "4         3    1  35.0       0    0    0    1\n",
      "..      ...  ...   ...     ...  ...  ...  ...\n",
      "886       2    1  27.0       0    0    0    1\n",
      "887       1    0  19.0       0    0    0    1\n",
      "888       3    0   0.0       3    0    0    1\n",
      "889       1    1  26.0       0    1    0    0\n",
      "890       3    1  32.0       0    0    1    0\n",
      "\n",
      "[891 rows x 7 columns]\n"
     ]
    }
   ],
   "source": [
    "print(y_data)\n",
    "print(X_data)"
   ]
  },
  {
   "cell_type": "code",
   "execution_count": 53,
   "id": "ede99016",
   "metadata": {},
   "outputs": [],
   "source": [
    "from sklearn.model_selection import train_test_split\n",
    "X_train, X_val, y_train, y_val = train_test_split(\n",
    "    X_data, y_data, test_size=0.2, random_state=0)"
   ]
  },
  {
   "cell_type": "code",
   "execution_count": 55,
   "id": "b71c8c99",
   "metadata": {},
   "outputs": [
    {
     "data": {
      "text/plain": [
       "LogisticRegression()"
      ]
     },
     "execution_count": 55,
     "metadata": {},
     "output_type": "execute_result"
    }
   ],
   "source": [
    "lr_model=LogisticRegression()\n",
    "lr_model.fit(X_train,y_train)"
   ]
  },
  {
   "cell_type": "code",
   "execution_count": 57,
   "id": "a829a284",
   "metadata": {},
   "outputs": [],
   "source": [
    "y_pred=lr_model.predict(X_val)"
   ]
  },
  {
   "cell_type": "code",
   "execution_count": 62,
   "id": "1096238b",
   "metadata": {},
   "outputs": [
    {
     "name": "stdout",
     "output_type": "stream",
     "text": [
      "0.8044692737430168\n"
     ]
    }
   ],
   "source": [
    "Accuracy=accuracy_score(y_val, y_pred)\n",
    "print(Accuracy)"
   ]
  }
 ],
 "metadata": {
  "kernelspec": {
   "display_name": "Python 3 (ipykernel)",
   "language": "python",
   "name": "python3"
  },
  "language_info": {
   "codemirror_mode": {
    "name": "ipython",
    "version": 3
   },
   "file_extension": ".py",
   "mimetype": "text/x-python",
   "name": "python",
   "nbconvert_exporter": "python",
   "pygments_lexer": "ipython3",
   "version": "3.9.13"
  }
 },
 "nbformat": 4,
 "nbformat_minor": 5
}
